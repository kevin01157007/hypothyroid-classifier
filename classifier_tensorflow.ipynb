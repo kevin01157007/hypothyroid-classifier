{
  "nbformat": 4,
  "nbformat_minor": 0,
  "metadata": {
    "colab": {
      "provenance": [],
      "gpuType": "T4",
      "authorship_tag": "ABX9TyMVLXPNuNnLbe8hijVHsvk4",
      "include_colab_link": true
    },
    "kernelspec": {
      "name": "python3",
      "display_name": "Python 3"
    },
    "language_info": {
      "name": "python"
    },
    "accelerator": "GPU"
  },
  "cells": [
    {
      "cell_type": "markdown",
      "metadata": {
        "id": "view-in-github",
        "colab_type": "text"
      },
      "source": [
        "<a href=\"https://colab.research.google.com/github/kevin01157007/hypothyroid-classifier/blob/main/classifier_tensorflow.ipynb\" target=\"_parent\"><img src=\"https://colab.research.google.com/assets/colab-badge.svg\" alt=\"Open In Colab\"/></a>"
      ]
    },
    {
      "cell_type": "code",
      "execution_count": null,
      "metadata": {
        "colab": {
          "base_uri": "https://localhost:8080/"
        },
        "id": "1q6QWDGQLvie",
        "outputId": "a5c9af23-e7d0-4a70-923b-bbf86915da2d"
      },
      "outputs": [
        {
          "output_type": "stream",
          "name": "stdout",
          "text": [
            "[(62., b'F', b'f', b'f', b'f', b'f', b'f', b'f', b'f', b'f', b'f', b'f', b'f', b't', b'f', b'f', 0.035, 2.6, 128., 1.03, 124., b'SVI', b'negative')\n",
            " (72., b'F', b'f', b'f', b'f', b'f', b'f', b'f', b'f', b'f', b'f', b'f', b'f', b'f', b'f', b'f', 1.4  , 1.4, 115., 0.97, 118., b'SVHC', b'negative')\n",
            " (40., b'F', b't', b'f', b'f', b'f', b'f', b'f', b'f', b'f', b'f', b'f', b'f', b'f', b'f', b'f', 1.6  , 1.9, 142., 0.91, 156., b'other', b'negative')\n",
            " ...\n",
            " (15., b'F', b'f', b'f', b'f', b'f', b'f', b'f', b'f', b'f', b'f', b'f', b'f', b'f', b'f', b'f', 0.04 , 1.4, 103., 0.85, 120., b'SVI', b'negative')\n",
            " (59., b'F', b'f', b'f', b'f', b'f', b'f', b'f', b'f', b'f', b'f', b'f', b'f', b'f', b'f', b't', 1.3  , 3.2, 149., 1.17, 127., b'SVHC', b'negative')\n",
            " (65., b'F', b'f', b'f', b'f', b'f', b'f', b'f', b'f', b'f', b'f', b'f', b'f', b'f', b'f', b'f', 1.7  , 2.4,  73., 0.89,  82., b'SVI', b'negative')]\n"
          ]
        }
      ],
      "source": [
        "from scipy.io import arff\n",
        "import pandas as pd\n",
        "from sklearn.naive_bayes import MultinomialNB\n",
        "from sklearn import svm\n",
        "from sklearn.metrics import classification_report, accuracy_score\n",
        "\n",
        "# 讀取訓練與測試資料\n",
        "train_data, train_meta = arff.loadarff(\"hypothyroid_cjlin2025_training.arff\")\n",
        "test_data, test_meta = arff.loadarff(\"hypothyroid_cjlin2025_test.arff\")\n",
        "\n",
        "print(train_data)"
      ]
    },
    {
      "cell_type": "code",
      "source": [
        "# 轉為 DataFrame 並解碼\n",
        "train_df = pd.DataFrame(train_data)\n",
        "test_df = pd.DataFrame(test_data)\n",
        "for col in train_df.select_dtypes([object]):\n",
        "    train_df[col] = train_df[col].str.decode('utf-8')\n",
        "for col in test_df.select_dtypes([object]):\n",
        "    test_df[col] = test_df[col].str.decode('utf-8')\n",
        "print(train_df.columns.tolist())\n",
        "print(test_df.columns.tolist())\n",
        "print(train_df['hypopituitary'].value_counts()['f'])\n",
        "print(len(train_df))\n",
        "print(len(test_df))"
      ],
      "metadata": {
        "colab": {
          "base_uri": "https://localhost:8080/"
        },
        "id": "j6FFJ6jFNR11",
        "outputId": "3259843e-56f0-42ee-e323-bfc2b1f9f559"
      },
      "execution_count": null,
      "outputs": [
        {
          "output_type": "stream",
          "name": "stdout",
          "text": [
            "['age', 'sex', 'on thyroxine', 'query on thyroxine', 'on antithyroid medication', 'sick', 'pregnant', 'thyroid surgery', 'I131 treatment', 'query hypothyroid', 'query hyperthyroid', 'lithium', 'goitre', 'tumor', 'hypopituitary', 'psych', 'TSH', 'T3', 'TT4', 'T4U', 'FTI', 'referral source', 'Class']\n",
            "['age', 'sex', 'on thyroxine', 'query on thyroxine', 'on antithyroid medication', 'sick', 'pregnant', 'thyroid surgery', 'I131 treatment', 'query hypothyroid', 'query hyperthyroid', 'lithium', 'goitre', 'tumor', 'hypopituitary', 'psych', 'TSH', 'T3', 'TT4', 'T4U', 'FTI', 'referral source', 'Class']\n",
            "3057\n",
            "3057\n",
            "341\n"
          ]
        }
      ]
    },
    {
      "cell_type": "code",
      "source": [
        "# 最後一欄是目標變數\n",
        "X_train = train_df.iloc[:, :-1]\n",
        "y_train = train_df.iloc[:, -1]\n",
        "X_test = test_df.iloc[:, :-1]\n",
        "y_test = test_df.iloc[:, -1]\n",
        "print(y_train)"
      ],
      "metadata": {
        "colab": {
          "base_uri": "https://localhost:8080/"
        },
        "id": "wIIjUO0FNXWP",
        "outputId": "0b5e2853-a05b-4c2b-a778-738cb0ba928f"
      },
      "execution_count": null,
      "outputs": [
        {
          "output_type": "stream",
          "name": "stdout",
          "text": [
            "0       negative\n",
            "1       negative\n",
            "2       negative\n",
            "3       negative\n",
            "4       negative\n",
            "          ...   \n",
            "3052    negative\n",
            "3053    negative\n",
            "3054    negative\n",
            "3055    negative\n",
            "3056    negative\n",
            "Name: Class, Length: 3057, dtype: object\n"
          ]
        }
      ]
    },
    {
      "cell_type": "code",
      "source": [
        "# One-hot encoding：保持訓練與測試欄位一致\n",
        "X_train_encoded = pd.get_dummies(X_train)\n",
        "X_test_encoded = pd.get_dummies(X_test)\n",
        "extra_cols = set(X_test_encoded.columns) - set(X_train_encoded.columns)\n",
        "print(extra_cols)\n",
        "invalid_index = X_test_encoded[X_test_encoded[list(extra_cols)].sum(axis=1) > 0].index\n",
        "X_test_encoded = X_test_encoded.drop(index=invalid_index)\n",
        "print(len(X_test_encoded))\n",
        "print(X_test_encoded.columns.tolist())\n",
        "print(X_train_encoded.columns.tolist())\n",
        "X_test_encoded = X_test_encoded.reindex(columns=X_train_encoded.columns, fill_value=0)\n",
        "print(len(X_test_encoded))\n",
        "print(X_test_encoded.columns.tolist())\n",
        "y_test = y_test.drop(index=invalid_index)\n",
        "print(len(y_test))"
      ],
      "metadata": {
        "colab": {
          "base_uri": "https://localhost:8080/"
        },
        "id": "wZtDyo5ONX1J",
        "outputId": "930d57ca-574b-48e5-a381-28f580f161f8"
      },
      "execution_count": null,
      "outputs": [
        {
          "output_type": "stream",
          "name": "stdout",
          "text": [
            "{'hypopituitary_t'}\n",
            "340\n",
            "['age', 'TSH', 'T3', 'TT4', 'T4U', 'FTI', 'sex_F', 'sex_M', 'on thyroxine_f', 'on thyroxine_t', 'query on thyroxine_f', 'query on thyroxine_t', 'on antithyroid medication_f', 'on antithyroid medication_t', 'sick_f', 'sick_t', 'pregnant_f', 'pregnant_t', 'thyroid surgery_f', 'thyroid surgery_t', 'I131 treatment_f', 'I131 treatment_t', 'query hypothyroid_f', 'query hypothyroid_t', 'query hyperthyroid_f', 'query hyperthyroid_t', 'lithium_f', 'lithium_t', 'goitre_f', 'goitre_t', 'tumor_f', 'tumor_t', 'hypopituitary_f', 'hypopituitary_t', 'psych_f', 'psych_t', 'referral source_STMW', 'referral source_SVHC', 'referral source_SVHD', 'referral source_SVI', 'referral source_other']\n",
            "['age', 'TSH', 'T3', 'TT4', 'T4U', 'FTI', 'sex_F', 'sex_M', 'on thyroxine_f', 'on thyroxine_t', 'query on thyroxine_f', 'query on thyroxine_t', 'on antithyroid medication_f', 'on antithyroid medication_t', 'sick_f', 'sick_t', 'pregnant_f', 'pregnant_t', 'thyroid surgery_f', 'thyroid surgery_t', 'I131 treatment_f', 'I131 treatment_t', 'query hypothyroid_f', 'query hypothyroid_t', 'query hyperthyroid_f', 'query hyperthyroid_t', 'lithium_f', 'lithium_t', 'goitre_f', 'goitre_t', 'tumor_f', 'tumor_t', 'hypopituitary_f', 'psych_f', 'psych_t', 'referral source_STMW', 'referral source_SVHC', 'referral source_SVHD', 'referral source_SVI', 'referral source_other']\n",
            "340\n",
            "['age', 'TSH', 'T3', 'TT4', 'T4U', 'FTI', 'sex_F', 'sex_M', 'on thyroxine_f', 'on thyroxine_t', 'query on thyroxine_f', 'query on thyroxine_t', 'on antithyroid medication_f', 'on antithyroid medication_t', 'sick_f', 'sick_t', 'pregnant_f', 'pregnant_t', 'thyroid surgery_f', 'thyroid surgery_t', 'I131 treatment_f', 'I131 treatment_t', 'query hypothyroid_f', 'query hypothyroid_t', 'query hyperthyroid_f', 'query hyperthyroid_t', 'lithium_f', 'lithium_t', 'goitre_f', 'goitre_t', 'tumor_f', 'tumor_t', 'hypopituitary_f', 'psych_f', 'psych_t', 'referral source_STMW', 'referral source_SVHC', 'referral source_SVHD', 'referral source_SVI', 'referral source_other']\n",
            "340\n"
          ]
        }
      ]
    },
    {
      "cell_type": "code",
      "source": [
        "\n",
        "import numpy as np\n",
        "X_train_encoded = np.array(X_train_encoded)\n",
        "X_test_encoded = np.array(X_test_encoded)\n",
        "\n",
        "X_train_encoded = X_train_encoded.astype(np.float32)\n",
        "X_test_encoded = X_test_encoded.astype(np.float32)\n",
        "\n",
        "print(X_train_encoded.shape)\n",
        "print(X_test_encoded.shape)\n"
      ],
      "metadata": {
        "colab": {
          "base_uri": "https://localhost:8080/"
        },
        "id": "EsBEIw2eOxWN",
        "outputId": "fea35511-8da2-4582-90bd-5229a2b57de8"
      },
      "execution_count": null,
      "outputs": [
        {
          "output_type": "stream",
          "name": "stdout",
          "text": [
            "(3057, 40)\n",
            "(340, 40)\n"
          ]
        }
      ]
    },
    {
      "cell_type": "code",
      "source": [
        "y_train = pd.get_dummies(y_train)\n",
        "y_test = pd.get_dummies(y_test)\n",
        "\n",
        "y_train = np.array(y_train)\n",
        "y_train = y_train.astype(int)\n",
        "\n",
        "y_test = np.array(y_test)\n",
        "y_test = y_test.astype(int)\n",
        "y_train"
      ],
      "metadata": {
        "id": "0ogLHQAqds5M",
        "outputId": "c5a96858-e9f3-452f-ad55-a74c5983b256",
        "colab": {
          "base_uri": "https://localhost:8080/"
        }
      },
      "execution_count": null,
      "outputs": [
        {
          "output_type": "execute_result",
          "data": {
            "text/plain": [
              "array([[0, 1, 0, 0],\n",
              "       [0, 1, 0, 0],\n",
              "       [0, 1, 0, 0],\n",
              "       ...,\n",
              "       [0, 1, 0, 0],\n",
              "       [0, 1, 0, 0],\n",
              "       [0, 1, 0, 0]])"
            ]
          },
          "metadata": {},
          "execution_count": 295
        }
      ]
    },
    {
      "cell_type": "code",
      "source": [
        "import tensorflow as tf\n",
        "from tensorflow import keras\n",
        "from tensorflow.keras import layers, models\n",
        "\n",
        "class Classifier(tf.keras.Model):\n",
        "    def __init__(self):\n",
        "        super(Classifier, self).__init__()\n",
        "        self.net = models.Sequential([\n",
        "            # layers.Dense(256, input_shape=(40,)),\n",
        "            # layers.LeakyReLU(),\n",
        "            # layers.BatchNormalization(),\n",
        "            layers.Dense(128, input_shape=(40,)),\n",
        "            layers.LeakyReLU(),\n",
        "            layers.BatchNormalization(),\n",
        "            layers.Dense(64),\n",
        "            layers.LeakyReLU(),\n",
        "            layers.BatchNormalization(),\n",
        "            layers.Dense(64),\n",
        "            layers.LeakyReLU(),\n",
        "            layers.BatchNormalization(),\n",
        "            layers.Dense(4)  # No activation if this is for logits (e.g., softmax will be applied later)\n",
        "        ])\n",
        "\n",
        "    def call(self, inputs, training=False):\n",
        "        return self.net(inputs, training=training)\n"
      ],
      "metadata": {
        "id": "m9UnREirQA1t"
      },
      "execution_count": null,
      "outputs": []
    },
    {
      "cell_type": "code",
      "source": [
        "def get_device():\n",
        "    return 'GPU' if tf.config.list_physical_devices('GPU') else 'CPU'"
      ],
      "metadata": {
        "id": "fzC91mdJRDvd"
      },
      "execution_count": null,
      "outputs": []
    },
    {
      "cell_type": "code",
      "source": [
        "# get device\n",
        "device = get_device()\n",
        "print(f'DEVICE: {device}')\n",
        "\n",
        "# training parameters\n",
        "num_epoch = 100              # number of training epoch\n",
        "\n",
        "batch_size = 64\n",
        "\n",
        "# create model, define a loss function, and optimizer\n",
        "model = Classifier()\n",
        "model.compile(\n",
        "    loss=tf.keras.losses.CategoricalCrossentropy(from_logits=True),\n",
        "    optimizer=keras.optimizers.Adam(learning_rate=0.001),\n",
        "    metrics=['accuracy']\n",
        ")"
      ],
      "metadata": {
        "colab": {
          "base_uri": "https://localhost:8080/"
        },
        "id": "i16BW32qRPBH",
        "outputId": "a4fffd17-702a-4ba4-de7b-b5351b16b27f"
      },
      "execution_count": null,
      "outputs": [
        {
          "output_type": "stream",
          "name": "stdout",
          "text": [
            "DEVICE: GPU\n"
          ]
        },
        {
          "output_type": "stream",
          "name": "stderr",
          "text": [
            "/usr/local/lib/python3.11/dist-packages/keras/src/layers/core/dense.py:87: UserWarning: Do not pass an `input_shape`/`input_dim` argument to a layer. When using Sequential models, prefer using an `Input(shape)` object as the first layer in the model instead.\n",
            "  super().__init__(activity_regularizer=activity_regularizer, **kwargs)\n"
          ]
        }
      ]
    },
    {
      "cell_type": "code",
      "source": [
        "import random\n",
        "import os\n",
        "def set_seed(seed=42):\n",
        "    random.seed(seed)\n",
        "    np.random.seed(seed)\n",
        "    tf.random.set_seed(seed)\n",
        "    os.environ['PYTHONHASHSEED'] = str(seed)"
      ],
      "metadata": {
        "id": "76sFlZN_guoJ"
      },
      "execution_count": null,
      "outputs": []
    },
    {
      "cell_type": "code",
      "source": [
        "set_seed(42)\n",
        "history = model.fit(\n",
        "    X_train_encoded,\n",
        "    y_train,\n",
        "    epochs=num_epoch,\n",
        "    batch_size=batch_size,\n",
        "    verbose=2,\n",
        "    shuffle=True\n",
        ")"
      ],
      "metadata": {
        "colab": {
          "base_uri": "https://localhost:8080/"
        },
        "id": "PobfSA_8SQfj",
        "outputId": "1995bea6-b9f5-4fee-c9df-223cc1aeae09"
      },
      "execution_count": null,
      "outputs": [
        {
          "output_type": "stream",
          "name": "stdout",
          "text": [
            "Epoch 1/100\n",
            "48/48 - 5s - 114ms/step - accuracy: 0.7278 - loss: 1.0457\n",
            "Epoch 2/100\n",
            "48/48 - 0s - 4ms/step - accuracy: 0.9097 - loss: 0.6429\n",
            "Epoch 3/100\n",
            "48/48 - 0s - 6ms/step - accuracy: 0.9342 - loss: 0.4569\n",
            "Epoch 4/100\n",
            "48/48 - 0s - 6ms/step - accuracy: 0.9493 - loss: 0.3330\n",
            "Epoch 5/100\n",
            "48/48 - 0s - 3ms/step - accuracy: 0.9575 - loss: 0.2476\n",
            "Epoch 6/100\n",
            "48/48 - 0s - 3ms/step - accuracy: 0.9637 - loss: 0.1835\n",
            "Epoch 7/100\n",
            "48/48 - 0s - 6ms/step - accuracy: 0.9686 - loss: 0.1414\n",
            "Epoch 8/100\n",
            "48/48 - 0s - 3ms/step - accuracy: 0.9722 - loss: 0.1169\n",
            "Epoch 9/100\n",
            "48/48 - 0s - 6ms/step - accuracy: 0.9738 - loss: 0.1015\n",
            "Epoch 10/100\n",
            "48/48 - 0s - 3ms/step - accuracy: 0.9774 - loss: 0.0887\n",
            "Epoch 11/100\n",
            "48/48 - 0s - 3ms/step - accuracy: 0.9745 - loss: 0.0841\n",
            "Epoch 12/100\n",
            "48/48 - 0s - 3ms/step - accuracy: 0.9751 - loss: 0.0796\n",
            "Epoch 13/100\n",
            "48/48 - 0s - 3ms/step - accuracy: 0.9794 - loss: 0.0725\n",
            "Epoch 14/100\n",
            "48/48 - 0s - 6ms/step - accuracy: 0.9817 - loss: 0.0666\n",
            "Epoch 15/100\n",
            "48/48 - 0s - 3ms/step - accuracy: 0.9833 - loss: 0.0596\n",
            "Epoch 16/100\n",
            "48/48 - 0s - 3ms/step - accuracy: 0.9800 - loss: 0.0597\n",
            "Epoch 17/100\n",
            "48/48 - 0s - 6ms/step - accuracy: 0.9810 - loss: 0.0588\n",
            "Epoch 18/100\n",
            "48/48 - 0s - 3ms/step - accuracy: 0.9856 - loss: 0.0488\n",
            "Epoch 19/100\n",
            "48/48 - 0s - 6ms/step - accuracy: 0.9869 - loss: 0.0475\n",
            "Epoch 20/100\n",
            "48/48 - 0s - 3ms/step - accuracy: 0.9879 - loss: 0.0449\n",
            "Epoch 21/100\n",
            "48/48 - 0s - 3ms/step - accuracy: 0.9895 - loss: 0.0418\n",
            "Epoch 22/100\n",
            "48/48 - 0s - 6ms/step - accuracy: 0.9872 - loss: 0.0419\n",
            "Epoch 23/100\n",
            "48/48 - 0s - 3ms/step - accuracy: 0.9892 - loss: 0.0355\n",
            "Epoch 24/100\n",
            "48/48 - 0s - 3ms/step - accuracy: 0.9886 - loss: 0.0345\n",
            "Epoch 25/100\n",
            "48/48 - 0s - 3ms/step - accuracy: 0.9899 - loss: 0.0348\n",
            "Epoch 26/100\n",
            "48/48 - 0s - 6ms/step - accuracy: 0.9902 - loss: 0.0312\n",
            "Epoch 27/100\n",
            "48/48 - 0s - 3ms/step - accuracy: 0.9921 - loss: 0.0281\n",
            "Epoch 28/100\n",
            "48/48 - 0s - 3ms/step - accuracy: 0.9915 - loss: 0.0274\n",
            "Epoch 29/100\n",
            "48/48 - 0s - 3ms/step - accuracy: 0.9928 - loss: 0.0267\n",
            "Epoch 30/100\n",
            "48/48 - 0s - 6ms/step - accuracy: 0.9935 - loss: 0.0254\n",
            "Epoch 31/100\n",
            "48/48 - 0s - 3ms/step - accuracy: 0.9902 - loss: 0.0264\n",
            "Epoch 32/100\n",
            "48/48 - 0s - 3ms/step - accuracy: 0.9886 - loss: 0.0412\n",
            "Epoch 33/100\n",
            "48/48 - 0s - 3ms/step - accuracy: 0.9866 - loss: 0.0385\n",
            "Epoch 34/100\n",
            "48/48 - 0s - 3ms/step - accuracy: 0.9902 - loss: 0.0343\n",
            "Epoch 35/100\n",
            "48/48 - 0s - 6ms/step - accuracy: 0.9925 - loss: 0.0261\n",
            "Epoch 36/100\n",
            "48/48 - 0s - 3ms/step - accuracy: 0.9941 - loss: 0.0234\n",
            "Epoch 37/100\n",
            "48/48 - 0s - 3ms/step - accuracy: 0.9921 - loss: 0.0234\n",
            "Epoch 38/100\n",
            "48/48 - 0s - 3ms/step - accuracy: 0.9915 - loss: 0.0290\n",
            "Epoch 39/100\n",
            "48/48 - 0s - 3ms/step - accuracy: 0.9951 - loss: 0.0183\n",
            "Epoch 40/100\n",
            "48/48 - 0s - 3ms/step - accuracy: 0.9980 - loss: 0.0145\n",
            "Epoch 41/100\n",
            "48/48 - 0s - 3ms/step - accuracy: 0.9987 - loss: 0.0119\n",
            "Epoch 42/100\n",
            "48/48 - 0s - 3ms/step - accuracy: 0.9980 - loss: 0.0131\n",
            "Epoch 43/100\n",
            "48/48 - 0s - 6ms/step - accuracy: 0.9980 - loss: 0.0137\n",
            "Epoch 44/100\n",
            "48/48 - 0s - 3ms/step - accuracy: 0.9964 - loss: 0.0133\n",
            "Epoch 45/100\n",
            "48/48 - 0s - 3ms/step - accuracy: 0.9951 - loss: 0.0193\n",
            "Epoch 46/100\n",
            "48/48 - 0s - 3ms/step - accuracy: 0.9928 - loss: 0.0251\n",
            "Epoch 47/100\n",
            "48/48 - 0s - 3ms/step - accuracy: 0.9951 - loss: 0.0170\n",
            "Epoch 48/100\n",
            "48/48 - 0s - 3ms/step - accuracy: 0.9957 - loss: 0.0180\n",
            "Epoch 49/100\n",
            "48/48 - 0s - 3ms/step - accuracy: 0.9931 - loss: 0.0186\n",
            "Epoch 50/100\n",
            "48/48 - 0s - 3ms/step - accuracy: 0.9928 - loss: 0.0246\n",
            "Epoch 51/100\n",
            "48/48 - 0s - 3ms/step - accuracy: 0.9948 - loss: 0.0199\n",
            "Epoch 52/100\n",
            "48/48 - 0s - 3ms/step - accuracy: 0.9964 - loss: 0.0161\n",
            "Epoch 53/100\n",
            "48/48 - 0s - 3ms/step - accuracy: 0.9984 - loss: 0.0113\n",
            "Epoch 54/100\n",
            "48/48 - 0s - 3ms/step - accuracy: 0.9980 - loss: 0.0116\n",
            "Epoch 55/100\n",
            "48/48 - 0s - 7ms/step - accuracy: 0.9980 - loss: 0.0103\n",
            "Epoch 56/100\n",
            "48/48 - 0s - 6ms/step - accuracy: 0.9974 - loss: 0.0146\n",
            "Epoch 57/100\n",
            "48/48 - 0s - 6ms/step - accuracy: 0.9889 - loss: 0.0355\n",
            "Epoch 58/100\n",
            "48/48 - 0s - 6ms/step - accuracy: 0.9892 - loss: 0.0309\n",
            "Epoch 59/100\n",
            "48/48 - 0s - 6ms/step - accuracy: 0.9935 - loss: 0.0200\n",
            "Epoch 60/100\n",
            "48/48 - 0s - 5ms/step - accuracy: 0.9957 - loss: 0.0137\n",
            "Epoch 61/100\n",
            "48/48 - 0s - 6ms/step - accuracy: 0.9984 - loss: 0.0112\n",
            "Epoch 62/100\n",
            "48/48 - 0s - 5ms/step - accuracy: 0.9948 - loss: 0.0188\n",
            "Epoch 63/100\n",
            "48/48 - 0s - 3ms/step - accuracy: 0.9944 - loss: 0.0184\n",
            "Epoch 64/100\n",
            "48/48 - 0s - 6ms/step - accuracy: 0.9961 - loss: 0.0116\n",
            "Epoch 65/100\n",
            "48/48 - 0s - 6ms/step - accuracy: 0.9974 - loss: 0.0120\n",
            "Epoch 66/100\n",
            "48/48 - 0s - 6ms/step - accuracy: 0.9977 - loss: 0.0123\n",
            "Epoch 67/100\n",
            "48/48 - 0s - 3ms/step - accuracy: 0.9977 - loss: 0.0109\n",
            "Epoch 68/100\n",
            "48/48 - 0s - 3ms/step - accuracy: 0.9980 - loss: 0.0087\n",
            "Epoch 69/100\n",
            "48/48 - 0s - 6ms/step - accuracy: 0.9971 - loss: 0.0115\n",
            "Epoch 70/100\n",
            "48/48 - 0s - 6ms/step - accuracy: 0.9987 - loss: 0.0074\n",
            "Epoch 71/100\n",
            "48/48 - 0s - 3ms/step - accuracy: 0.9971 - loss: 0.0109\n",
            "Epoch 72/100\n",
            "48/48 - 0s - 3ms/step - accuracy: 0.9977 - loss: 0.0110\n",
            "Epoch 73/100\n",
            "48/48 - 0s - 3ms/step - accuracy: 0.9971 - loss: 0.0108\n",
            "Epoch 74/100\n",
            "48/48 - 0s - 3ms/step - accuracy: 0.9987 - loss: 0.0065\n",
            "Epoch 75/100\n",
            "48/48 - 0s - 3ms/step - accuracy: 0.9987 - loss: 0.0076\n",
            "Epoch 76/100\n",
            "48/48 - 0s - 3ms/step - accuracy: 0.9987 - loss: 0.0069\n",
            "Epoch 77/100\n",
            "48/48 - 0s - 3ms/step - accuracy: 0.9977 - loss: 0.0095\n",
            "Epoch 78/100\n",
            "48/48 - 0s - 3ms/step - accuracy: 0.9935 - loss: 0.0166\n",
            "Epoch 79/100\n",
            "48/48 - 0s - 3ms/step - accuracy: 0.9974 - loss: 0.0127\n",
            "Epoch 80/100\n",
            "48/48 - 0s - 3ms/step - accuracy: 0.9961 - loss: 0.0101\n",
            "Epoch 81/100\n",
            "48/48 - 0s - 6ms/step - accuracy: 0.9997 - loss: 0.0058\n",
            "Epoch 82/100\n",
            "48/48 - 0s - 3ms/step - accuracy: 0.9997 - loss: 0.0057\n",
            "Epoch 83/100\n",
            "48/48 - 0s - 3ms/step - accuracy: 0.9974 - loss: 0.0092\n",
            "Epoch 84/100\n",
            "48/48 - 0s - 3ms/step - accuracy: 0.9964 - loss: 0.0138\n",
            "Epoch 85/100\n",
            "48/48 - 0s - 6ms/step - accuracy: 0.9964 - loss: 0.0117\n",
            "Epoch 86/100\n",
            "48/48 - 0s - 3ms/step - accuracy: 0.9987 - loss: 0.0064\n",
            "Epoch 87/100\n",
            "48/48 - 0s - 6ms/step - accuracy: 0.9984 - loss: 0.0083\n",
            "Epoch 88/100\n",
            "48/48 - 0s - 3ms/step - accuracy: 0.9984 - loss: 0.0059\n",
            "Epoch 89/100\n",
            "48/48 - 0s - 3ms/step - accuracy: 0.9957 - loss: 0.0133\n",
            "Epoch 90/100\n",
            "48/48 - 0s - 3ms/step - accuracy: 0.9957 - loss: 0.0138\n",
            "Epoch 91/100\n",
            "48/48 - 0s - 6ms/step - accuracy: 0.9971 - loss: 0.0097\n",
            "Epoch 92/100\n",
            "48/48 - 0s - 3ms/step - accuracy: 0.9990 - loss: 0.0059\n",
            "Epoch 93/100\n",
            "48/48 - 0s - 3ms/step - accuracy: 0.9990 - loss: 0.0058\n",
            "Epoch 94/100\n",
            "48/48 - 0s - 6ms/step - accuracy: 0.9980 - loss: 0.0112\n",
            "Epoch 95/100\n",
            "48/48 - 0s - 6ms/step - accuracy: 0.9961 - loss: 0.0110\n",
            "Epoch 96/100\n",
            "48/48 - 0s - 3ms/step - accuracy: 0.9967 - loss: 0.0110\n",
            "Epoch 97/100\n",
            "48/48 - 0s - 3ms/step - accuracy: 0.9931 - loss: 0.0263\n",
            "Epoch 98/100\n",
            "48/48 - 0s - 6ms/step - accuracy: 0.9951 - loss: 0.0174\n",
            "Epoch 99/100\n",
            "48/48 - 0s - 6ms/step - accuracy: 0.9980 - loss: 0.0085\n",
            "Epoch 100/100\n",
            "48/48 - 0s - 3ms/step - accuracy: 0.9987 - loss: 0.0050\n"
          ]
        }
      ]
    },
    {
      "cell_type": "code",
      "source": [
        "test_loss, test_acc = model.evaluate(X_test_encoded, y_test, verbose=2)\n",
        "print(f'Test Loss: {test_loss:.4f}')\n",
        "print(f'Test Accuracy: {test_acc:.4f}')"
      ],
      "metadata": {
        "colab": {
          "base_uri": "https://localhost:8080/"
        },
        "id": "CMu48fCAY4mb",
        "outputId": "f53d34d8-449a-4714-9c0d-243c7329e1df"
      },
      "execution_count": null,
      "outputs": [
        {
          "output_type": "stream",
          "name": "stdout",
          "text": [
            "11/11 - 1s - 51ms/step - accuracy: 0.9794 - loss: 0.1253\n",
            "Test Loss: 0.1253\n",
            "Test Accuracy: 0.9794\n"
          ]
        }
      ]
    }
  ]
}