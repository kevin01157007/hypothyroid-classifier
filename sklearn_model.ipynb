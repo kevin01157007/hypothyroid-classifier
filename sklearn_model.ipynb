{
  "nbformat": 4,
  "nbformat_minor": 0,
  "metadata": {
    "colab": {
      "provenance": [],
      "gpuType": "T4",
      "authorship_tag": "ABX9TyOEEA8o82fQj0AJvwWnI8/a",
      "include_colab_link": true
    },
    "kernelspec": {
      "name": "python3",
      "display_name": "Python 3"
    },
    "language_info": {
      "name": "python"
    },
    "accelerator": "GPU"
  },
  "cells": [
    {
      "cell_type": "markdown",
      "metadata": {
        "id": "view-in-github",
        "colab_type": "text"
      },
      "source": [
        "<a href=\"https://colab.research.google.com/github/kevin01157007/hypothyroid-classifier/blob/main/sklearn_model.ipynb\" target=\"_parent\"><img src=\"https://colab.research.google.com/assets/colab-badge.svg\" alt=\"Open In Colab\"/></a>"
      ]
    },
    {
      "cell_type": "code",
      "execution_count": 1,
      "metadata": {
        "colab": {
          "base_uri": "https://localhost:8080/"
        },
        "id": "Srj0rRydvDdR",
        "outputId": "7032f3bf-2b3d-4967-c18b-700aadbb7a76"
      },
      "outputs": [
        {
          "output_type": "stream",
          "name": "stdout",
          "text": [
            "[(62., b'F', b'f', b'f', b'f', b'f', b'f', b'f', b'f', b'f', b'f', b'f', b'f', b't', b'f', b'f', 0.035, 2.6, 128., 1.03, 124., b'SVI', b'negative')\n",
            " (72., b'F', b'f', b'f', b'f', b'f', b'f', b'f', b'f', b'f', b'f', b'f', b'f', b'f', b'f', b'f', 1.4  , 1.4, 115., 0.97, 118., b'SVHC', b'negative')\n",
            " (40., b'F', b't', b'f', b'f', b'f', b'f', b'f', b'f', b'f', b'f', b'f', b'f', b'f', b'f', b'f', 1.6  , 1.9, 142., 0.91, 156., b'other', b'negative')\n",
            " ...\n",
            " (15., b'F', b'f', b'f', b'f', b'f', b'f', b'f', b'f', b'f', b'f', b'f', b'f', b'f', b'f', b'f', 0.04 , 1.4, 103., 0.85, 120., b'SVI', b'negative')\n",
            " (59., b'F', b'f', b'f', b'f', b'f', b'f', b'f', b'f', b'f', b'f', b'f', b'f', b'f', b'f', b't', 1.3  , 3.2, 149., 1.17, 127., b'SVHC', b'negative')\n",
            " (65., b'F', b'f', b'f', b'f', b'f', b'f', b'f', b'f', b'f', b'f', b'f', b'f', b'f', b'f', b'f', 1.7  , 2.4,  73., 0.89,  82., b'SVI', b'negative')]\n"
          ]
        }
      ],
      "source": [
        "from scipy.io import arff\n",
        "import pandas as pd\n",
        "from sklearn.naive_bayes import MultinomialNB\n",
        "from sklearn import svm\n",
        "from sklearn.metrics import classification_report, accuracy_score\n",
        "\n",
        "# 讀取訓練與測試資料\n",
        "train_data, train_meta = arff.loadarff(\"hypothyroid_cjlin2025_training.arff\")\n",
        "test_data, test_meta = arff.loadarff(\"hypothyroid_cjlin2025_test.arff\")\n",
        "\n",
        "print(train_data)\n"
      ]
    },
    {
      "cell_type": "code",
      "source": [
        "# 轉為 DataFrame 並解碼\n",
        "train_df = pd.DataFrame(train_data)\n",
        "test_df = pd.DataFrame(test_data)\n",
        "for col in train_df.select_dtypes([object]):\n",
        "    train_df[col] = train_df[col].str.decode('utf-8')\n",
        "for col in test_df.select_dtypes([object]):\n",
        "    test_df[col] = test_df[col].str.decode('utf-8')\n",
        "print(train_df.columns.tolist())\n",
        "print(test_df.columns.tolist())\n",
        "print(train_df['hypopituitary'].value_counts()['f'])\n",
        "print(len(train_df))\n",
        "print(len(test_df))"
      ],
      "metadata": {
        "colab": {
          "base_uri": "https://localhost:8080/"
        },
        "id": "v-io6CEI2oTd",
        "outputId": "fc0e1af4-2be1-45b5-e789-7aef1bb8a099"
      },
      "execution_count": 2,
      "outputs": [
        {
          "output_type": "stream",
          "name": "stdout",
          "text": [
            "['age', 'sex', 'on thyroxine', 'query on thyroxine', 'on antithyroid medication', 'sick', 'pregnant', 'thyroid surgery', 'I131 treatment', 'query hypothyroid', 'query hyperthyroid', 'lithium', 'goitre', 'tumor', 'hypopituitary', 'psych', 'TSH', 'T3', 'TT4', 'T4U', 'FTI', 'referral source', 'Class']\n",
            "['age', 'sex', 'on thyroxine', 'query on thyroxine', 'on antithyroid medication', 'sick', 'pregnant', 'thyroid surgery', 'I131 treatment', 'query hypothyroid', 'query hyperthyroid', 'lithium', 'goitre', 'tumor', 'hypopituitary', 'psych', 'TSH', 'T3', 'TT4', 'T4U', 'FTI', 'referral source', 'Class']\n",
            "3057\n",
            "3057\n",
            "341\n"
          ]
        }
      ]
    },
    {
      "cell_type": "code",
      "source": [
        "# 最後一欄是目標變數\n",
        "X_train = train_df.iloc[:, :-1]\n",
        "y_train = train_df.iloc[:, -1]\n",
        "X_test = test_df.iloc[:, :-1]\n",
        "y_test = test_df.iloc[:, -1]\n",
        "print(y_train)"
      ],
      "metadata": {
        "colab": {
          "base_uri": "https://localhost:8080/"
        },
        "id": "Sxqj0mvT22X9",
        "outputId": "946e601a-4a53-4f75-e17f-731e92b16ae1"
      },
      "execution_count": 3,
      "outputs": [
        {
          "output_type": "stream",
          "name": "stdout",
          "text": [
            "0       negative\n",
            "1       negative\n",
            "2       negative\n",
            "3       negative\n",
            "4       negative\n",
            "          ...   \n",
            "3052    negative\n",
            "3053    negative\n",
            "3054    negative\n",
            "3055    negative\n",
            "3056    negative\n",
            "Name: Class, Length: 3057, dtype: object\n"
          ]
        }
      ]
    },
    {
      "cell_type": "code",
      "source": [
        "# One-hot encoding：保持訓練與測試欄位一致\n",
        "X_train_encoded = pd.get_dummies(X_train)\n",
        "X_test_encoded = pd.get_dummies(X_test)\n",
        "extra_cols = set(X_test_encoded.columns) - set(X_train_encoded.columns)\n",
        "print(extra_cols)\n",
        "invalid_index = X_test_encoded[X_test_encoded[list(extra_cols)].sum(axis=1) > 0].index\n",
        "X_test_encoded = X_test_encoded.drop(index=invalid_index)\n",
        "print(len(X_test_encoded))\n",
        "print(X_test_encoded.columns.tolist())\n",
        "X_test_encoded = X_test_encoded.reindex(columns=X_train_encoded.columns, fill_value=0)\n",
        "print(len(X_test_encoded))\n",
        "print(X_test_encoded.columns.tolist())\n",
        "y_test = y_test.drop(index=invalid_index)\n",
        "print(len(y_test))"
      ],
      "metadata": {
        "colab": {
          "base_uri": "https://localhost:8080/"
        },
        "id": "fL0B24Ps3jvl",
        "outputId": "9076c85a-4bdc-4d82-b43b-625749633aa5"
      },
      "execution_count": 4,
      "outputs": [
        {
          "output_type": "stream",
          "name": "stdout",
          "text": [
            "{'hypopituitary_t'}\n",
            "340\n",
            "['age', 'TSH', 'T3', 'TT4', 'T4U', 'FTI', 'sex_F', 'sex_M', 'on thyroxine_f', 'on thyroxine_t', 'query on thyroxine_f', 'query on thyroxine_t', 'on antithyroid medication_f', 'on antithyroid medication_t', 'sick_f', 'sick_t', 'pregnant_f', 'pregnant_t', 'thyroid surgery_f', 'thyroid surgery_t', 'I131 treatment_f', 'I131 treatment_t', 'query hypothyroid_f', 'query hypothyroid_t', 'query hyperthyroid_f', 'query hyperthyroid_t', 'lithium_f', 'lithium_t', 'goitre_f', 'goitre_t', 'tumor_f', 'tumor_t', 'hypopituitary_f', 'hypopituitary_t', 'psych_f', 'psych_t', 'referral source_STMW', 'referral source_SVHC', 'referral source_SVHD', 'referral source_SVI', 'referral source_other']\n",
            "340\n",
            "['age', 'TSH', 'T3', 'TT4', 'T4U', 'FTI', 'sex_F', 'sex_M', 'on thyroxine_f', 'on thyroxine_t', 'query on thyroxine_f', 'query on thyroxine_t', 'on antithyroid medication_f', 'on antithyroid medication_t', 'sick_f', 'sick_t', 'pregnant_f', 'pregnant_t', 'thyroid surgery_f', 'thyroid surgery_t', 'I131 treatment_f', 'I131 treatment_t', 'query hypothyroid_f', 'query hypothyroid_t', 'query hyperthyroid_f', 'query hyperthyroid_t', 'lithium_f', 'lithium_t', 'goitre_f', 'goitre_t', 'tumor_f', 'tumor_t', 'hypopituitary_f', 'psych_f', 'psych_t', 'referral source_STMW', 'referral source_SVHC', 'referral source_SVHD', 'referral source_SVI', 'referral source_other']\n",
            "340\n"
          ]
        }
      ]
    },
    {
      "cell_type": "code",
      "source": [
        "# 訓練 Naive Bayes 模型\n",
        "model = MultinomialNB()\n",
        "model.fit(X_train_encoded, y_train)\n",
        "\n",
        "# 預測與評估\n",
        "y_pred = model.predict(X_test_encoded)\n",
        "accuracy = accuracy_score(y_test, y_pred)\n",
        "report = classification_report(y_test, y_pred, output_dict=True)\n",
        "\n",
        "accuracy, pd.DataFrame(report).transpose()"
      ],
      "metadata": {
        "colab": {
          "base_uri": "https://localhost:8080/"
        },
        "id": "ZuNrs9Ox3yGc",
        "outputId": "e6f35c75-ba3f-455f-e800-5c78aed60a43"
      },
      "execution_count": 5,
      "outputs": [
        {
          "output_type": "stream",
          "name": "stderr",
          "text": [
            "/usr/local/lib/python3.11/dist-packages/sklearn/metrics/_classification.py:1565: UndefinedMetricWarning: Precision is ill-defined and being set to 0.0 in labels with no predicted samples. Use `zero_division` parameter to control this behavior.\n",
            "  _warn_prf(average, modifier, f\"{metric.capitalize()} is\", len(result))\n",
            "/usr/local/lib/python3.11/dist-packages/sklearn/metrics/_classification.py:1565: UndefinedMetricWarning: Precision is ill-defined and being set to 0.0 in labels with no predicted samples. Use `zero_division` parameter to control this behavior.\n",
            "  _warn_prf(average, modifier, f\"{metric.capitalize()} is\", len(result))\n",
            "/usr/local/lib/python3.11/dist-packages/sklearn/metrics/_classification.py:1565: UndefinedMetricWarning: Precision is ill-defined and being set to 0.0 in labels with no predicted samples. Use `zero_division` parameter to control this behavior.\n",
            "  _warn_prf(average, modifier, f\"{metric.capitalize()} is\", len(result))\n"
          ]
        },
        {
          "output_type": "execute_result",
          "data": {
            "text/plain": [
              "(0.9352941176470588,\n",
              "                          precision    recall  f1-score     support\n",
              " compensated_hypothyroid   0.468750  0.789474  0.588235   19.000000\n",
              " negative                  0.989933  0.948553  0.968801  311.000000\n",
              " primary_hypothyroid       0.800000  0.888889  0.842105    9.000000\n",
              " secondary_hypothyroid     0.000000  0.000000  0.000000    1.000000\n",
              " accuracy                  0.935294  0.935294  0.935294    0.935294\n",
              " macro avg                 0.564671  0.656729  0.599785  340.000000\n",
              " weighted avg              0.952869  0.935294  0.941331  340.000000)"
            ]
          },
          "metadata": {},
          "execution_count": 5
        }
      ]
    },
    {
      "cell_type": "code",
      "source": [
        "# 訓練 SVM 模型\n",
        "model=svm.SVC(kernel='poly', degree=3, gamma='auto', C=1)\n",
        "model.fit(X_train_encoded, y_train)\n",
        "\n",
        "# 預測與評估\n",
        "y_pred = model.predict(X_test_encoded)\n",
        "accuracy = accuracy_score(y_test, y_pred)\n",
        "report = classification_report(y_test, y_pred, output_dict=True)\n",
        "\n",
        "accuracy, pd.DataFrame(report).transpose()"
      ],
      "metadata": {
        "colab": {
          "base_uri": "https://localhost:8080/"
        },
        "id": "NVS8QE18F-0k",
        "outputId": "4e6c8c38-3456-4868-871f-b2c3115f3ec4"
      },
      "execution_count": 6,
      "outputs": [
        {
          "output_type": "stream",
          "name": "stderr",
          "text": [
            "/usr/local/lib/python3.11/dist-packages/sklearn/metrics/_classification.py:1565: UndefinedMetricWarning: Precision is ill-defined and being set to 0.0 in labels with no predicted samples. Use `zero_division` parameter to control this behavior.\n",
            "  _warn_prf(average, modifier, f\"{metric.capitalize()} is\", len(result))\n",
            "/usr/local/lib/python3.11/dist-packages/sklearn/metrics/_classification.py:1565: UndefinedMetricWarning: Precision is ill-defined and being set to 0.0 in labels with no predicted samples. Use `zero_division` parameter to control this behavior.\n",
            "  _warn_prf(average, modifier, f\"{metric.capitalize()} is\", len(result))\n",
            "/usr/local/lib/python3.11/dist-packages/sklearn/metrics/_classification.py:1565: UndefinedMetricWarning: Precision is ill-defined and being set to 0.0 in labels with no predicted samples. Use `zero_division` parameter to control this behavior.\n",
            "  _warn_prf(average, modifier, f\"{metric.capitalize()} is\", len(result))\n"
          ]
        },
        {
          "output_type": "execute_result",
          "data": {
            "text/plain": [
              "(0.9764705882352941,\n",
              "                          precision    recall  f1-score     support\n",
              " compensated_hypothyroid   0.772727  0.894737  0.829268   19.000000\n",
              " negative                  0.990291  0.983923  0.987097  311.000000\n",
              " primary_hypothyroid       1.000000  1.000000  1.000000    9.000000\n",
              " secondary_hypothyroid     0.000000  0.000000  0.000000    1.000000\n",
              " accuracy                  0.976471  0.976471  0.976471    0.976471\n",
              " macro avg                 0.690755  0.719665  0.704091  340.000000\n",
              " weighted avg              0.975478  0.976471  0.975715  340.000000)"
            ]
          },
          "metadata": {},
          "execution_count": 6
        }
      ]
    },
    {
      "cell_type": "code",
      "source": [
        "from sklearn.tree import DecisionTreeClassifier\n",
        "\n",
        "# 訓練 DecisionTreeClassifier 模型\n",
        "DecisionTreeModel=DecisionTreeClassifier(criterion = 'entropy', max_depth=5, random_state=42)\n",
        "DecisionTreeModel.fit(X_train_encoded, y_train)\n",
        "\n",
        "# 預測與評估\n",
        "y_pred = DecisionTreeModel.predict(X_test_encoded)\n",
        "accuracy = accuracy_score(y_test, y_pred)\n",
        "report = classification_report(y_test, y_pred, output_dict=True)\n",
        "\n",
        "accuracy, pd.DataFrame(report).transpose()"
      ],
      "metadata": {
        "id": "4PJZ2loh_7uo",
        "outputId": "1a7dd909-509c-4d05-dcac-b3a2599682d6",
        "colab": {
          "base_uri": "https://localhost:8080/"
        }
      },
      "execution_count": 7,
      "outputs": [
        {
          "output_type": "execute_result",
          "data": {
            "text/plain": [
              "(0.9911764705882353,\n",
              "                          precision    recall  f1-score     support\n",
              " compensated_hypothyroid   1.000000  1.000000  1.000000   19.000000\n",
              " negative                  0.996774  0.993569  0.995169  311.000000\n",
              " primary_hypothyroid       0.900000  1.000000  0.947368    9.000000\n",
              " secondary_hypothyroid     0.000000  0.000000  0.000000    1.000000\n",
              " accuracy                  0.991176  0.991176  0.991176    0.991176\n",
              " macro avg                 0.724194  0.748392  0.735634  340.000000\n",
              " weighted avg              0.991461  0.991176  0.991247  340.000000)"
            ]
          },
          "metadata": {},
          "execution_count": 7
        }
      ]
    },
    {
      "cell_type": "code",
      "source": [
        "from sklearn.tree import export_graphviz\n",
        "import graphviz\n",
        "dot_data = export_graphviz(DecisionTreeModel, out_file=None,\n",
        "                  feature_names=['age', 'TSH', 'T3', 'TT4', 'T4U', 'FTI', 'sex_F', 'sex_M', 'on thyroxine_f', 'on thyroxine_t', 'query on thyroxine_f', 'query on thyroxine_t', 'on antithyroid medication_f', 'on antithyroid medication_t', 'sick_f', 'sick_t', 'pregnant_f', 'pregnant_t', 'thyroid surgery_f', 'thyroid surgery_t', 'I131 treatment_f', 'I131 treatment_t', 'query hypothyroid_f', 'query hypothyroid_t', 'query hyperthyroid_f', 'query hyperthyroid_t', 'lithium_f', 'lithium_t', 'goitre_f', 'goitre_t', 'tumor_f', 'tumor_t', 'hypopituitary_f', 'psych_f', 'psych_t', 'referral source_STMW', 'referral source_SVHC', 'referral source_SVHD', 'referral source_SVI', 'referral source_other'],\n",
        "                  class_names=['compensated_hypothyroid', 'negative', 'primary_hypothyroid', 'secondary_hypothyroid'],\n",
        "                  filled=True, rounded=True,\n",
        "                  special_characters=True)\n",
        "graph = graphviz.Source(dot_data)\n",
        "save_path = 'decision_tree_graph'\n",
        "graph.render(save_path, format='png')"
      ],
      "metadata": {
        "id": "HpOJxOA3B2--",
        "outputId": "0b9de50e-18b8-4f84-8cbd-4335c9d02596",
        "colab": {
          "base_uri": "https://localhost:8080/",
          "height": 35
        }
      },
      "execution_count": 8,
      "outputs": [
        {
          "output_type": "execute_result",
          "data": {
            "text/plain": [
              "'decision_tree_graph.png'"
            ],
            "application/vnd.google.colaboratory.intrinsic+json": {
              "type": "string"
            }
          },
          "metadata": {},
          "execution_count": 8
        }
      ]
    },
    {
      "cell_type": "code",
      "source": [
        "from sklearn.ensemble import RandomForestClassifier\n",
        "# 建立 Random Forest Classifier 模型\n",
        "randomForestModel = RandomForestClassifier(n_estimators=100, criterion = 'gini')\n",
        "randomForestModel.fit(X_train_encoded, y_train)\n",
        "\n",
        "# 預測與評估\n",
        "y_pred = randomForestModel.predict(X_test_encoded)\n",
        "accuracy = accuracy_score(y_test, y_pred)\n",
        "report = classification_report(y_test, y_pred, output_dict=True)\n",
        "\n",
        "accuracy, pd.DataFrame(report).transpose()"
      ],
      "metadata": {
        "id": "U2lz0v1fD8Zs",
        "outputId": "80eb0ee8-37cc-45f7-e45f-62752c80166d",
        "colab": {
          "base_uri": "https://localhost:8080/"
        }
      },
      "execution_count": 9,
      "outputs": [
        {
          "output_type": "stream",
          "name": "stderr",
          "text": [
            "/usr/local/lib/python3.11/dist-packages/sklearn/metrics/_classification.py:1565: UndefinedMetricWarning: Precision is ill-defined and being set to 0.0 in labels with no predicted samples. Use `zero_division` parameter to control this behavior.\n",
            "  _warn_prf(average, modifier, f\"{metric.capitalize()} is\", len(result))\n",
            "/usr/local/lib/python3.11/dist-packages/sklearn/metrics/_classification.py:1565: UndefinedMetricWarning: Precision is ill-defined and being set to 0.0 in labels with no predicted samples. Use `zero_division` parameter to control this behavior.\n",
            "  _warn_prf(average, modifier, f\"{metric.capitalize()} is\", len(result))\n",
            "/usr/local/lib/python3.11/dist-packages/sklearn/metrics/_classification.py:1565: UndefinedMetricWarning: Precision is ill-defined and being set to 0.0 in labels with no predicted samples. Use `zero_division` parameter to control this behavior.\n",
            "  _warn_prf(average, modifier, f\"{metric.capitalize()} is\", len(result))\n"
          ]
        },
        {
          "output_type": "execute_result",
          "data": {
            "text/plain": [
              "(0.9911764705882353,\n",
              "                          precision    recall  f1-score     support\n",
              " compensated_hypothyroid   0.950000  1.000000  0.974359   19.000000\n",
              " negative                  0.996774  0.993569  0.995169  311.000000\n",
              " primary_hypothyroid       0.900000  1.000000  0.947368    9.000000\n",
              " secondary_hypothyroid     0.000000  0.000000  0.000000    1.000000\n",
              " accuracy                  0.991176  0.991176  0.991176    0.991176\n",
              " macro avg                 0.711694  0.748392  0.729224  340.000000\n",
              " weighted avg              0.988667  0.991176  0.989814  340.000000)"
            ]
          },
          "metadata": {},
          "execution_count": 9
        }
      ]
    },
    {
      "cell_type": "code",
      "source": [
        "from xgboost import XGBClassifier\n",
        "\n",
        "\n",
        "# 對訓練和測試目標變數進行編碼\n",
        "y_train_encoded = pd.get_dummies(y_train)\n",
        "y_test_encoded = pd.get_dummies(y_test)\n",
        "# 建立 XGBClassifier 模型\n",
        "xgboostModel = XGBClassifier(n_estimators=100, learning_rate= 0.3)\n",
        "# 使用訓練資料訓練模型\n",
        "xgboostModel.fit(X_train_encoded, y_train_encoded)\n",
        "# 使用訓練資料預測分類\n",
        "y_pred = xgboostModel.predict(X_test_encoded)\n",
        "accuracy = accuracy_score(y_test_encoded, y_pred)\n",
        "report = classification_report(y_test_encoded, y_pred, output_dict=True, zero_division=1)\n",
        "\n",
        "accuracy, pd.DataFrame(report).transpose()"
      ],
      "metadata": {
        "id": "aBMy13M0Bj38",
        "outputId": "ded2af23-5876-44eb-a3d7-97157e94790f",
        "colab": {
          "base_uri": "https://localhost:8080/"
        }
      },
      "execution_count": 21,
      "outputs": [
        {
          "output_type": "execute_result",
          "data": {
            "text/plain": [
              "(0.9823529411764705,\n",
              "               precision    recall  f1-score  support\n",
              " 0              0.947368  0.947368  0.947368     19.0\n",
              " 1              0.987261  0.996785  0.992000    311.0\n",
              " 2              0.900000  1.000000  0.947368      9.0\n",
              " 3              1.000000  0.000000  0.000000      1.0\n",
              " micro avg      0.982507  0.991176  0.986823    340.0\n",
              " macro avg      0.958657  0.736038  0.721684    340.0\n",
              " weighted avg   0.982759  0.991176  0.985407    340.0\n",
              " samples avg    0.986765  0.991176  0.988235    340.0)"
            ]
          },
          "metadata": {},
          "execution_count": 21
        }
      ]
    }
  ]
}